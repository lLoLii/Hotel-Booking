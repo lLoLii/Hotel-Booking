{
  "nbformat": 4,
  "nbformat_minor": 0,
  "metadata": {
    "colab": {
      "name": "HotelPJ.ipynb",
      "provenance": [],
      "collapsed_sections": [],
      "toc_visible": true,
      "mount_file_id": "1nLuu2vqtoGpgNZps_EtC-XIDLcZtKDar",
      "authorship_tag": "ABX9TyPW1rjF861pPkES9D4KeUtS",
      "include_colab_link": true
    },
    "kernelspec": {
      "name": "python3",
      "display_name": "Python 3"
    },
    "accelerator": "GPU"
  },
  "cells": [
    {
      "cell_type": "markdown",
      "metadata": {
        "id": "view-in-github",
        "colab_type": "text"
      },
      "source": [
        "<a href=\"https://colab.research.google.com/github/lLoLii/Hotel-Booking/blob/main/HotelPJ.ipynb\" target=\"_parent\"><img src=\"https://colab.research.google.com/assets/colab-badge.svg\" alt=\"Open In Colab\"/></a>"
      ]
    },
    {
      "cell_type": "code",
      "metadata": {
        "id": "YobN9wfIwW3s",
        "outputId": "feabaa89-9c8d-40d8-e61a-0af71372bc30",
        "colab": {
          "base_uri": "https://localhost:8080/",
          "height": 85
        }
      },
      "source": [
        "import pandas as pd\n",
        "import plotly.express as px\n",
        "import plotly.graph_objects as go\n",
        "import seaborn as sns\n",
        "import matplotlib.pyplot as plt\n",
        "sns.set(style=\"whitegrid\")\n",
        "pd.set_option(\"display.max_columns\", 36)"
      ],
      "execution_count": null,
      "outputs": [
        {
          "output_type": "stream",
          "text": [
            "/usr/local/lib/python3.6/dist-packages/statsmodels/tools/_testing.py:19: FutureWarning:\n",
            "\n",
            "pandas.util.testing is deprecated. Use the functions in the public API at pandas.testing instead.\n",
            "\n"
          ],
          "name": "stderr"
        }
      ]
    },
    {
      "cell_type": "markdown",
      "metadata": {
        "id": "wOHJFdoLvAZc"
      },
      "source": [
        "# EDA\n"
      ]
    },
    {
      "cell_type": "code",
      "metadata": {
        "id": "pdXlT2eCtURz"
      },
      "source": [
        "df = pd.read_csv('/content/drive/My Drive/2020 /hotel_clean.csv',index_col=0)"
      ],
      "execution_count": null,
      "outputs": []
    },
    {
      "cell_type": "code",
      "metadata": {
        "id": "O6RaDiw9wRUo",
        "outputId": "ab5d9077-d048-4b49-b6be-a7a9d9dc1b38",
        "colab": {
          "base_uri": "https://localhost:8080/",
          "height": 258
        }
      },
      "source": [
        "df.head()"
      ],
      "execution_count": null,
      "outputs": [
        {
          "output_type": "execute_result",
          "data": {
            "text/html": [
              "<div>\n",
              "<style scoped>\n",
              "    .dataframe tbody tr th:only-of-type {\n",
              "        vertical-align: middle;\n",
              "    }\n",
              "\n",
              "    .dataframe tbody tr th {\n",
              "        vertical-align: top;\n",
              "    }\n",
              "\n",
              "    .dataframe thead th {\n",
              "        text-align: right;\n",
              "    }\n",
              "</style>\n",
              "<table border=\"1\" class=\"dataframe\">\n",
              "  <thead>\n",
              "    <tr style=\"text-align: right;\">\n",
              "      <th></th>\n",
              "      <th>is_canceled</th>\n",
              "      <th>lead_time</th>\n",
              "      <th>arrival_date_year</th>\n",
              "      <th>arrival_date_month</th>\n",
              "      <th>arrival_date_week_number</th>\n",
              "      <th>arrival_date_day_of_month</th>\n",
              "      <th>stays_in_weekend_nights</th>\n",
              "      <th>stays_in_week_nights</th>\n",
              "      <th>adults</th>\n",
              "      <th>children</th>\n",
              "      <th>babies</th>\n",
              "      <th>meal</th>\n",
              "      <th>country</th>\n",
              "      <th>market_segment</th>\n",
              "      <th>distribution_channel</th>\n",
              "      <th>is_repeated_guest</th>\n",
              "      <th>previous_cancellations</th>\n",
              "      <th>previous_bookings_not_canceled</th>\n",
              "      <th>reserved_room_type</th>\n",
              "      <th>assigned_room_type</th>\n",
              "      <th>booking_changes</th>\n",
              "      <th>deposit_type</th>\n",
              "      <th>agent</th>\n",
              "      <th>company</th>\n",
              "      <th>days_in_waiting_list</th>\n",
              "      <th>customer_type</th>\n",
              "      <th>adr</th>\n",
              "      <th>required_car_parking_spaces</th>\n",
              "      <th>total_of_special_requests</th>\n",
              "      <th>reservation_status</th>\n",
              "      <th>have_bb</th>\n",
              "      <th>country_name</th>\n",
              "      <th>alpha2</th>\n",
              "      <th>region</th>\n",
              "      <th>adr_pp</th>\n",
              "    </tr>\n",
              "  </thead>\n",
              "  <tbody>\n",
              "    <tr>\n",
              "      <th>0</th>\n",
              "      <td>0</td>\n",
              "      <td>109</td>\n",
              "      <td>2016</td>\n",
              "      <td>January</td>\n",
              "      <td>1</td>\n",
              "      <td>1</td>\n",
              "      <td>0</td>\n",
              "      <td>1</td>\n",
              "      <td>2</td>\n",
              "      <td>0</td>\n",
              "      <td>0</td>\n",
              "      <td>BB</td>\n",
              "      <td>RUS</td>\n",
              "      <td>Online TA</td>\n",
              "      <td>TA/TO</td>\n",
              "      <td>0</td>\n",
              "      <td>0</td>\n",
              "      <td>0</td>\n",
              "      <td>A</td>\n",
              "      <td>D</td>\n",
              "      <td>0</td>\n",
              "      <td>No Deposit</td>\n",
              "      <td>240.0</td>\n",
              "      <td>0.0</td>\n",
              "      <td>0</td>\n",
              "      <td>Transient-Party</td>\n",
              "      <td>59.94</td>\n",
              "      <td>0</td>\n",
              "      <td>1</td>\n",
              "      <td>Check-Out</td>\n",
              "      <td>0</td>\n",
              "      <td>Russian Federation</td>\n",
              "      <td>RU</td>\n",
              "      <td>EU</td>\n",
              "      <td>29.970</td>\n",
              "    </tr>\n",
              "    <tr>\n",
              "      <th>1</th>\n",
              "      <td>0</td>\n",
              "      <td>109</td>\n",
              "      <td>2016</td>\n",
              "      <td>January</td>\n",
              "      <td>1</td>\n",
              "      <td>1</td>\n",
              "      <td>0</td>\n",
              "      <td>1</td>\n",
              "      <td>2</td>\n",
              "      <td>2</td>\n",
              "      <td>0</td>\n",
              "      <td>BB</td>\n",
              "      <td>RUS</td>\n",
              "      <td>Online TA</td>\n",
              "      <td>TA/TO</td>\n",
              "      <td>0</td>\n",
              "      <td>0</td>\n",
              "      <td>0</td>\n",
              "      <td>H</td>\n",
              "      <td>H</td>\n",
              "      <td>0</td>\n",
              "      <td>No Deposit</td>\n",
              "      <td>240.0</td>\n",
              "      <td>0.0</td>\n",
              "      <td>0</td>\n",
              "      <td>Transient-Party</td>\n",
              "      <td>116.10</td>\n",
              "      <td>1</td>\n",
              "      <td>1</td>\n",
              "      <td>Check-Out</td>\n",
              "      <td>1</td>\n",
              "      <td>Russian Federation</td>\n",
              "      <td>RU</td>\n",
              "      <td>EU</td>\n",
              "      <td>29.025</td>\n",
              "    </tr>\n",
              "    <tr>\n",
              "      <th>2</th>\n",
              "      <td>1</td>\n",
              "      <td>2</td>\n",
              "      <td>2016</td>\n",
              "      <td>January</td>\n",
              "      <td>1</td>\n",
              "      <td>1</td>\n",
              "      <td>0</td>\n",
              "      <td>1</td>\n",
              "      <td>2</td>\n",
              "      <td>0</td>\n",
              "      <td>0</td>\n",
              "      <td>BB</td>\n",
              "      <td>PRT</td>\n",
              "      <td>Online TA</td>\n",
              "      <td>TA/TO</td>\n",
              "      <td>0</td>\n",
              "      <td>0</td>\n",
              "      <td>0</td>\n",
              "      <td>D</td>\n",
              "      <td>D</td>\n",
              "      <td>0</td>\n",
              "      <td>No Deposit</td>\n",
              "      <td>240.0</td>\n",
              "      <td>0.0</td>\n",
              "      <td>0</td>\n",
              "      <td>Transient</td>\n",
              "      <td>89.00</td>\n",
              "      <td>0</td>\n",
              "      <td>1</td>\n",
              "      <td>No-Show</td>\n",
              "      <td>0</td>\n",
              "      <td>Portugal</td>\n",
              "      <td>PT</td>\n",
              "      <td>EU</td>\n",
              "      <td>44.500</td>\n",
              "    </tr>\n",
              "    <tr>\n",
              "      <th>3</th>\n",
              "      <td>0</td>\n",
              "      <td>88</td>\n",
              "      <td>2016</td>\n",
              "      <td>January</td>\n",
              "      <td>1</td>\n",
              "      <td>1</td>\n",
              "      <td>0</td>\n",
              "      <td>2</td>\n",
              "      <td>2</td>\n",
              "      <td>0</td>\n",
              "      <td>0</td>\n",
              "      <td>HB</td>\n",
              "      <td>ARG</td>\n",
              "      <td>Online TA</td>\n",
              "      <td>TA/TO</td>\n",
              "      <td>0</td>\n",
              "      <td>0</td>\n",
              "      <td>0</td>\n",
              "      <td>A</td>\n",
              "      <td>D</td>\n",
              "      <td>0</td>\n",
              "      <td>No Deposit</td>\n",
              "      <td>241.0</td>\n",
              "      <td>0.0</td>\n",
              "      <td>0</td>\n",
              "      <td>Transient</td>\n",
              "      <td>73.46</td>\n",
              "      <td>0</td>\n",
              "      <td>2</td>\n",
              "      <td>Check-Out</td>\n",
              "      <td>0</td>\n",
              "      <td>Argentina</td>\n",
              "      <td>AR</td>\n",
              "      <td>SA</td>\n",
              "      <td>36.730</td>\n",
              "    </tr>\n",
              "    <tr>\n",
              "      <th>4</th>\n",
              "      <td>1</td>\n",
              "      <td>20</td>\n",
              "      <td>2016</td>\n",
              "      <td>January</td>\n",
              "      <td>1</td>\n",
              "      <td>1</td>\n",
              "      <td>0</td>\n",
              "      <td>2</td>\n",
              "      <td>2</td>\n",
              "      <td>2</td>\n",
              "      <td>0</td>\n",
              "      <td>BB</td>\n",
              "      <td>PRT</td>\n",
              "      <td>Online TA</td>\n",
              "      <td>TA/TO</td>\n",
              "      <td>0</td>\n",
              "      <td>0</td>\n",
              "      <td>0</td>\n",
              "      <td>G</td>\n",
              "      <td>G</td>\n",
              "      <td>0</td>\n",
              "      <td>No Deposit</td>\n",
              "      <td>240.0</td>\n",
              "      <td>0.0</td>\n",
              "      <td>0</td>\n",
              "      <td>Transient</td>\n",
              "      <td>119.00</td>\n",
              "      <td>0</td>\n",
              "      <td>0</td>\n",
              "      <td>Canceled</td>\n",
              "      <td>1</td>\n",
              "      <td>Portugal</td>\n",
              "      <td>PT</td>\n",
              "      <td>EU</td>\n",
              "      <td>29.750</td>\n",
              "    </tr>\n",
              "  </tbody>\n",
              "</table>\n",
              "</div>"
            ],
            "text/plain": [
              "   is_canceled  lead_time  arrival_date_year arrival_date_month  \\\n",
              "0            0        109               2016            January   \n",
              "1            0        109               2016            January   \n",
              "2            1          2               2016            January   \n",
              "3            0         88               2016            January   \n",
              "4            1         20               2016            January   \n",
              "\n",
              "   arrival_date_week_number  arrival_date_day_of_month  \\\n",
              "0                         1                          1   \n",
              "1                         1                          1   \n",
              "2                         1                          1   \n",
              "3                         1                          1   \n",
              "4                         1                          1   \n",
              "\n",
              "   stays_in_weekend_nights  stays_in_week_nights  adults  children  babies  \\\n",
              "0                        0                     1       2         0       0   \n",
              "1                        0                     1       2         2       0   \n",
              "2                        0                     1       2         0       0   \n",
              "3                        0                     2       2         0       0   \n",
              "4                        0                     2       2         2       0   \n",
              "\n",
              "  meal country market_segment distribution_channel  is_repeated_guest  \\\n",
              "0   BB     RUS      Online TA                TA/TO                  0   \n",
              "1   BB     RUS      Online TA                TA/TO                  0   \n",
              "2   BB     PRT      Online TA                TA/TO                  0   \n",
              "3   HB     ARG      Online TA                TA/TO                  0   \n",
              "4   BB     PRT      Online TA                TA/TO                  0   \n",
              "\n",
              "   previous_cancellations  previous_bookings_not_canceled reserved_room_type  \\\n",
              "0                       0                               0                  A   \n",
              "1                       0                               0                  H   \n",
              "2                       0                               0                  D   \n",
              "3                       0                               0                  A   \n",
              "4                       0                               0                  G   \n",
              "\n",
              "  assigned_room_type  booking_changes deposit_type  agent  company  \\\n",
              "0                  D                0   No Deposit  240.0      0.0   \n",
              "1                  H                0   No Deposit  240.0      0.0   \n",
              "2                  D                0   No Deposit  240.0      0.0   \n",
              "3                  D                0   No Deposit  241.0      0.0   \n",
              "4                  G                0   No Deposit  240.0      0.0   \n",
              "\n",
              "   days_in_waiting_list    customer_type     adr  required_car_parking_spaces  \\\n",
              "0                     0  Transient-Party   59.94                            0   \n",
              "1                     0  Transient-Party  116.10                            1   \n",
              "2                     0        Transient   89.00                            0   \n",
              "3                     0        Transient   73.46                            0   \n",
              "4                     0        Transient  119.00                            0   \n",
              "\n",
              "   total_of_special_requests reservation_status  have_bb        country_name  \\\n",
              "0                          1          Check-Out        0  Russian Federation   \n",
              "1                          1          Check-Out        1  Russian Federation   \n",
              "2                          1            No-Show        0            Portugal   \n",
              "3                          2          Check-Out        0           Argentina   \n",
              "4                          0           Canceled        1            Portugal   \n",
              "\n",
              "  alpha2 region  adr_pp  \n",
              "0     RU     EU  29.970  \n",
              "1     RU     EU  29.025  \n",
              "2     PT     EU  44.500  \n",
              "3     AR     SA  36.730  \n",
              "4     PT     EU  29.750  "
            ]
          },
          "metadata": {
            "tags": []
          },
          "execution_count": 3
        }
      ]
    },
    {
      "cell_type": "code",
      "metadata": {
        "id": "z2XZojoj-Xac",
        "outputId": "42960911-dfc4-4c9a-ddd6-48969e7b7caa",
        "colab": {
          "base_uri": "https://localhost:8080/",
          "height": 235
        }
      },
      "source": [
        "df.groupby('country_name',as_index=False)['adr'].count().nlargest(6,'adr')"
      ],
      "execution_count": null,
      "outputs": [
        {
          "output_type": "execute_result",
          "data": {
            "text/html": [
              "<div>\n",
              "<style scoped>\n",
              "    .dataframe tbody tr th:only-of-type {\n",
              "        vertical-align: middle;\n",
              "    }\n",
              "\n",
              "    .dataframe tbody tr th {\n",
              "        vertical-align: top;\n",
              "    }\n",
              "\n",
              "    .dataframe thead th {\n",
              "        text-align: right;\n",
              "    }\n",
              "</style>\n",
              "<table border=\"1\" class=\"dataframe\">\n",
              "  <thead>\n",
              "    <tr style=\"text-align: right;\">\n",
              "      <th></th>\n",
              "      <th>country_name</th>\n",
              "      <th>adr</th>\n",
              "    </tr>\n",
              "  </thead>\n",
              "  <tbody>\n",
              "    <tr>\n",
              "      <th>84</th>\n",
              "      <td>Portugal</td>\n",
              "      <td>13285</td>\n",
              "    </tr>\n",
              "    <tr>\n",
              "      <th>110</th>\n",
              "      <td>United Kingdom</td>\n",
              "      <td>5702</td>\n",
              "    </tr>\n",
              "    <tr>\n",
              "      <th>97</th>\n",
              "      <td>Spain</td>\n",
              "      <td>3003</td>\n",
              "    </tr>\n",
              "    <tr>\n",
              "      <th>49</th>\n",
              "      <td>Ireland</td>\n",
              "      <td>1728</td>\n",
              "    </tr>\n",
              "    <tr>\n",
              "      <th>37</th>\n",
              "      <td>France</td>\n",
              "      <td>1284</td>\n",
              "    </tr>\n",
              "    <tr>\n",
              "      <th>39</th>\n",
              "      <td>Germany</td>\n",
              "      <td>1086</td>\n",
              "    </tr>\n",
              "  </tbody>\n",
              "</table>\n",
              "</div>"
            ],
            "text/plain": [
              "       country_name    adr\n",
              "84         Portugal  13285\n",
              "110  United Kingdom   5702\n",
              "97            Spain   3003\n",
              "49          Ireland   1728\n",
              "37           France   1284\n",
              "39          Germany   1086"
            ]
          },
          "metadata": {
            "tags": []
          },
          "execution_count": 4
        }
      ]
    },
    {
      "cell_type": "code",
      "metadata": {
        "id": "Pk2Kthkyx_qX"
      },
      "source": [
        "df[\"adr_pp\"] = df[\"adr\"] / (df[\"adults\"] + df[\"children\"])\n",
        "df_noc = df[df['is_canceled'] == 0]\n",
        "df_c = df[df['is_canceled'] == 1]\n",
        "room_prices = df_noc[[ \"reserved_room_type\", \"adr_pp\"]].sort_values(\"reserved_room_type\")"
      ],
      "execution_count": null,
      "outputs": []
    },
    {
      "cell_type": "code",
      "metadata": {
        "id": "5s83wN-EjPIg",
        "outputId": "1be3a5bb-b10e-4273-ebbc-0764fefad3d4",
        "colab": {
          "base_uri": "https://localhost:8080/",
          "height": 675
        }
      },
      "source": [
        "df_noc[\"total_nights\"] = df_noc[\"stays_in_weekend_nights\"] + df_noc[\"stays_in_week_nights\"]\n",
        "num_nights_gues = list(df_noc[\"total_nights\"].value_counts().index)\n",
        "num_bookings_gues= list(df_noc[\"total_nights\"].value_counts())\n",
        "rel_bookings_gues= df_noc[\"total_nights\"].value_counts() / sum(num_bookings_gues) * 100\n",
        "\n",
        "gues_nights = pd.DataFrame({\n",
        "                           \"num_nights\": num_nights_gues,\n",
        "                           \"rel_num_bookings\": rel_bookings_gues})\n",
        "\n",
        "plt.figure(figsize=(16, 8))\n",
        "g = sns.barplot(x = \"num_nights\", y = \"rel_num_bookings\", data=gues_nights)\n",
        "plt.title(\"Length of stay (Canceled)\", fontsize=16)\n",
        "plt.xlabel(\"Number of nights\", fontsize=16)\n",
        "plt.ylabel(\"Cancels [%]\", fontsize=16)\n",
        "plt.legend(loc=\"upper right\")\n",
        "plt.xlim(0,22)\n",
        "plt.ylim(0,25)\n",
        "plt.show()"
      ],
      "execution_count": null,
      "outputs": [
        {
          "output_type": "stream",
          "text": [
            "/usr/local/lib/python3.6/dist-packages/ipykernel_launcher.py:1: SettingWithCopyWarning:\n",
            "\n",
            "\n",
            "A value is trying to be set on a copy of a slice from a DataFrame.\n",
            "Try using .loc[row_indexer,col_indexer] = value instead\n",
            "\n",
            "See the caveats in the documentation: https://pandas.pydata.org/pandas-docs/stable/user_guide/indexing.html#returning-a-view-versus-a-copy\n",
            "\n",
            "No handles with labels found to put in legend.\n"
          ],
          "name": "stderr"
        },
        {
          "output_type": "display_data",
          "data": {
            "image/png": "[encoded data removed]",
            "text/plain": [
              "<Figure size 1152x576 with 1 Axes>"
            ]
          },
          "metadata": {
            "tags": [],
            "needs_background": "light"
          }
        }
      ]
    },
    {
      "cell_type": "code",
      "metadata": {
        "id": "dePwg3YbPm5E",
        "outputId": "80356453-6dd6-4b4d-e155-49e95cc0df93",
        "colab": {
          "base_uri": "https://localhost:8080/",
          "height": 302
        }
      },
      "source": [
        "sns.boxplot(x = \"market_segment\", y = 'adr_pp', data = df_noc)"
      ],
      "execution_count": null,
      "outputs": [
        {
          "output_type": "execute_result",
          "data": {
            "text/plain": [
              "<matplotlib.axes._subplots.AxesSubplot at 0x7fa7f3bdcb70>"
            ]
          },
          "metadata": {
            "tags": []
          },
          "execution_count": 7
        },
        {
          "output_type": "display_data",
          "data": {
            "image/png": "[encoded data removed]",
            "text/plain": [
              "<Figure size 432x288 with 1 Axes>"
            ]
          },
          "metadata": {
            "tags": [],
            "needs_background": "light"
          }
        }
      ]
    },
    {
      "cell_type": "code",
      "metadata": {
        "id": "aHCwDIZkOKT0",
        "outputId": "3553cd9e-a706-4b38-ab07-a4c7277a0ea5",
        "colab": {
          "base_uri": "https://localhost:8080/",
          "height": 173
        }
      },
      "source": [
        "adr = df_c.groupby('customer_type')['adr'].sum().reset_index()\n",
        "adr"
      ],
      "execution_count": null,
      "outputs": [
        {
          "output_type": "execute_result",
          "data": {
            "text/html": [
              "<div>\n",
              "<style scoped>\n",
              "    .dataframe tbody tr th:only-of-type {\n",
              "        vertical-align: middle;\n",
              "    }\n",
              "\n",
              "    .dataframe tbody tr th {\n",
              "        vertical-align: top;\n",
              "    }\n",
              "\n",
              "    .dataframe thead th {\n",
              "        text-align: right;\n",
              "    }\n",
              "</style>\n",
              "<table border=\"1\" class=\"dataframe\">\n",
              "  <thead>\n",
              "    <tr style=\"text-align: right;\">\n",
              "      <th></th>\n",
              "      <th>customer_type</th>\n",
              "      <th>adr</th>\n",
              "    </tr>\n",
              "  </thead>\n",
              "  <tbody>\n",
              "    <tr>\n",
              "      <th>0</th>\n",
              "      <td>Contract</td>\n",
              "      <td>8798.51</td>\n",
              "    </tr>\n",
              "    <tr>\n",
              "      <th>1</th>\n",
              "      <td>Group</td>\n",
              "      <td>1469.74</td>\n",
              "    </tr>\n",
              "    <tr>\n",
              "      <th>2</th>\n",
              "      <td>Transient</td>\n",
              "      <td>895199.36</td>\n",
              "    </tr>\n",
              "    <tr>\n",
              "      <th>3</th>\n",
              "      <td>Transient-Party</td>\n",
              "      <td>82565.41</td>\n",
              "    </tr>\n",
              "  </tbody>\n",
              "</table>\n",
              "</div>"
            ],
            "text/plain": [
              "     customer_type        adr\n",
              "0         Contract    8798.51\n",
              "1            Group    1469.74\n",
              "2        Transient  895199.36\n",
              "3  Transient-Party   82565.41"
            ]
          },
          "metadata": {
            "tags": []
          },
          "execution_count": 8
        }
      ]
    },
    {
      "cell_type": "code",
      "metadata": {
        "id": "369FqxpBRTMJ",
        "outputId": "ce711512-f498-4d9f-867e-8729d4ccea35",
        "colab": {
          "base_uri": "https://localhost:8080/",
          "height": 173
        }
      },
      "source": [
        "adr['adr_pct'] = round(((adr['adr'] / adr['adr'].sum()) *100),2)\n",
        "adr"
      ],
      "execution_count": null,
      "outputs": [
        {
          "output_type": "execute_result",
          "data": {
            "text/html": [
              "<div>\n",
              "<style scoped>\n",
              "    .dataframe tbody tr th:only-of-type {\n",
              "        vertical-align: middle;\n",
              "    }\n",
              "\n",
              "    .dataframe tbody tr th {\n",
              "        vertical-align: top;\n",
              "    }\n",
              "\n",
              "    .dataframe thead th {\n",
              "        text-align: right;\n",
              "    }\n",
              "</style>\n",
              "<table border=\"1\" class=\"dataframe\">\n",
              "  <thead>\n",
              "    <tr style=\"text-align: right;\">\n",
              "      <th></th>\n",
              "      <th>customer_type</th>\n",
              "      <th>adr</th>\n",
              "      <th>adr_pct</th>\n",
              "    </tr>\n",
              "  </thead>\n",
              "  <tbody>\n",
              "    <tr>\n",
              "      <th>0</th>\n",
              "      <td>Contract</td>\n",
              "      <td>8798.51</td>\n",
              "      <td>0.89</td>\n",
              "    </tr>\n",
              "    <tr>\n",
              "      <th>1</th>\n",
              "      <td>Group</td>\n",
              "      <td>1469.74</td>\n",
              "      <td>0.15</td>\n",
              "    </tr>\n",
              "    <tr>\n",
              "      <th>2</th>\n",
              "      <td>Transient</td>\n",
              "      <td>895199.36</td>\n",
              "      <td>90.60</td>\n",
              "    </tr>\n",
              "    <tr>\n",
              "      <th>3</th>\n",
              "      <td>Transient-Party</td>\n",
              "      <td>82565.41</td>\n",
              "      <td>8.36</td>\n",
              "    </tr>\n",
              "  </tbody>\n",
              "</table>\n",
              "</div>"
            ],
            "text/plain": [
              "     customer_type        adr  adr_pct\n",
              "0         Contract    8798.51     0.89\n",
              "1            Group    1469.74     0.15\n",
              "2        Transient  895199.36    90.60\n",
              "3  Transient-Party   82565.41     8.36"
            ]
          },
          "metadata": {
            "tags": []
          },
          "execution_count": 9
        }
      ]
    },
    {
      "cell_type": "code",
      "metadata": {
        "id": "as3I5ID6OXww",
        "outputId": "0bb6ffb0-d943-401c-86b0-13f6eaca9b8c",
        "colab": {
          "base_uri": "https://localhost:8080/",
          "height": 173
        }
      },
      "source": [
        "c_type = df_c.groupby('customer_type')['adr'].count().reset_index()\n",
        "c_type['c_pct'] = round(((c_type['adr'] / c_type['adr'].sum()) *100),2)\n",
        "c_type"
      ],
      "execution_count": null,
      "outputs": [
        {
          "output_type": "execute_result",
          "data": {
            "text/html": [
              "<div>\n",
              "<style scoped>\n",
              "    .dataframe tbody tr th:only-of-type {\n",
              "        vertical-align: middle;\n",
              "    }\n",
              "\n",
              "    .dataframe tbody tr th {\n",
              "        vertical-align: top;\n",
              "    }\n",
              "\n",
              "    .dataframe thead th {\n",
              "        text-align: right;\n",
              "    }\n",
              "</style>\n",
              "<table border=\"1\" class=\"dataframe\">\n",
              "  <thead>\n",
              "    <tr style=\"text-align: right;\">\n",
              "      <th></th>\n",
              "      <th>customer_type</th>\n",
              "      <th>adr</th>\n",
              "      <th>c_pct</th>\n",
              "    </tr>\n",
              "  </thead>\n",
              "  <tbody>\n",
              "    <tr>\n",
              "      <th>0</th>\n",
              "      <td>Contract</td>\n",
              "      <td>103</td>\n",
              "      <td>1.15</td>\n",
              "    </tr>\n",
              "    <tr>\n",
              "      <th>1</th>\n",
              "      <td>Group</td>\n",
              "      <td>11</td>\n",
              "      <td>0.12</td>\n",
              "    </tr>\n",
              "    <tr>\n",
              "      <th>2</th>\n",
              "      <td>Transient</td>\n",
              "      <td>7696</td>\n",
              "      <td>85.68</td>\n",
              "    </tr>\n",
              "    <tr>\n",
              "      <th>3</th>\n",
              "      <td>Transient-Party</td>\n",
              "      <td>1172</td>\n",
              "      <td>13.05</td>\n",
              "    </tr>\n",
              "  </tbody>\n",
              "</table>\n",
              "</div>"
            ],
            "text/plain": [
              "     customer_type   adr  c_pct\n",
              "0         Contract   103   1.15\n",
              "1            Group    11   0.12\n",
              "2        Transient  7696  85.68\n",
              "3  Transient-Party  1172  13.05"
            ]
          },
          "metadata": {
            "tags": []
          },
          "execution_count": 10
        }
      ]
    },
    {
      "cell_type": "code",
      "metadata": {
        "id": "9jty0VezyQoI",
        "outputId": "8df3b83d-c718-4730-85e1-8112ee4c21a7",
        "colab": {
          "base_uri": "https://localhost:8080/",
          "height": 675
        }
      },
      "source": [
        "df_c[\"total_nights\"] = df_c[\"stays_in_weekend_nights\"] + df_c[\"stays_in_week_nights\"]\n",
        "num_nights_guesc = list(df_c[\"total_nights\"].value_counts().index)\n",
        "num_bookings_guesc = list(df_c[\"total_nights\"].value_counts())\n",
        "rel_bookings_guesc = df_c[\"total_nights\"].value_counts() / sum(num_bookings_gues) * 100\n",
        "\n",
        "gues_nightsc = pd.DataFrame({\n",
        "                           \"num_nights\": num_nights_guesc,\n",
        "                           \"rel_num_bookings\": rel_bookings_guesc})\n",
        "\n",
        "plt.figure(figsize=(16, 8))\n",
        "g = sns.barplot(x = \"num_nights\", y = \"rel_num_bookings\", data=gues_nightsc)\n",
        "plt.title(\"Length of stay (Canceled)\", fontsize=16)\n",
        "plt.xlabel(\"Number of nights\", fontsize=16)\n",
        "plt.ylabel(\"Cancels [%]\", fontsize=16)\n",
        "plt.legend(loc=\"upper right\")\n",
        "plt.xlim(0,22)\n",
        "plt.ylim(0,25)\n",
        "plt.show()"
      ],
      "execution_count": null,
      "outputs": [
        {
          "output_type": "stream",
          "text": [
            "/usr/local/lib/python3.6/dist-packages/ipykernel_launcher.py:1: SettingWithCopyWarning:\n",
            "\n",
            "\n",
            "A value is trying to be set on a copy of a slice from a DataFrame.\n",
            "Try using .loc[row_indexer,col_indexer] = value instead\n",
            "\n",
            "See the caveats in the documentation: https://pandas.pydata.org/pandas-docs/stable/user_guide/indexing.html#returning-a-view-versus-a-copy\n",
            "\n",
            "No handles with labels found to put in legend.\n"
          ],
          "name": "stderr"
        },
        {
          "output_type": "display_data",
          "data": {
            "image/png": "[encoded data removed]",
            "text/plain": [
              "<Figure size 1152x576 with 1 Axes>"
            ]
          },
          "metadata": {
            "tags": [],
            "needs_background": "light"
          }
        }
      ]
    },
    {
      "cell_type": "code",
      "metadata": {
        "id": "N19kpZ4a_gJl"
      },
      "source": [
        "ordered_months = [\"January\", \"February\", \"March\", \"April\", \"May\", \"June\", \n",
        "          \"July\", \"August\", \"September\", \"October\", \"November\", \"December\"]\n",
        "          \n",
        "yr_2 = [\"January\", \"February\", \"March\", \"April\", \"May\", \"June\", \n",
        "          \"July\", \"August\"]"
      ],
      "execution_count": null,
      "outputs": []
    },
    {
      "cell_type": "code",
      "metadata": {
        "id": "k3JXmcpyykMZ",
        "outputId": "507104a3-3a53-4cba-8fd8-6fa34a5eb659",
        "colab": {
          "base_uri": "https://localhost:8080/",
          "height": 162
        }
      },
      "source": [
        "df.groupby('is_repeated_guest').count()"
      ],
      "execution_count": null,
      "outputs": [
        {
          "output_type": "execute_result",
          "data": {
            "text/html": [
              "<div>\n",
              "<style scoped>\n",
              "    .dataframe tbody tr th:only-of-type {\n",
              "        vertical-align: middle;\n",
              "    }\n",
              "\n",
              "    .dataframe tbody tr th {\n",
              "        vertical-align: top;\n",
              "    }\n",
              "\n",
              "    .dataframe thead th {\n",
              "        text-align: right;\n",
              "    }\n",
              "</style>\n",
              "<table border=\"1\" class=\"dataframe\">\n",
              "  <thead>\n",
              "    <tr style=\"text-align: right;\">\n",
              "      <th></th>\n",
              "      <th>is_canceled</th>\n",
              "      <th>lead_time</th>\n",
              "      <th>arrival_date_year</th>\n",
              "      <th>arrival_date_month</th>\n",
              "      <th>arrival_date_week_number</th>\n",
              "      <th>arrival_date_day_of_month</th>\n",
              "      <th>stays_in_weekend_nights</th>\n",
              "      <th>stays_in_week_nights</th>\n",
              "      <th>adults</th>\n",
              "      <th>children</th>\n",
              "      <th>babies</th>\n",
              "      <th>meal</th>\n",
              "      <th>country</th>\n",
              "      <th>market_segment</th>\n",
              "      <th>distribution_channel</th>\n",
              "      <th>previous_cancellations</th>\n",
              "      <th>previous_bookings_not_canceled</th>\n",
              "      <th>reserved_room_type</th>\n",
              "      <th>assigned_room_type</th>\n",
              "      <th>booking_changes</th>\n",
              "      <th>deposit_type</th>\n",
              "      <th>agent</th>\n",
              "      <th>company</th>\n",
              "      <th>days_in_waiting_list</th>\n",
              "      <th>customer_type</th>\n",
              "      <th>adr</th>\n",
              "      <th>required_car_parking_spaces</th>\n",
              "      <th>total_of_special_requests</th>\n",
              "      <th>reservation_status</th>\n",
              "      <th>have_bb</th>\n",
              "      <th>country_name</th>\n",
              "      <th>alpha2</th>\n",
              "      <th>region</th>\n",
              "      <th>adr_pp</th>\n",
              "    </tr>\n",
              "    <tr>\n",
              "      <th>is_repeated_guest</th>\n",
              "      <th></th>\n",
              "      <th></th>\n",
              "      <th></th>\n",
              "      <th></th>\n",
              "      <th></th>\n",
              "      <th></th>\n",
              "      <th></th>\n",
              "      <th></th>\n",
              "      <th></th>\n",
              "      <th></th>\n",
              "      <th></th>\n",
              "      <th></th>\n",
              "      <th></th>\n",
              "      <th></th>\n",
              "      <th></th>\n",
              "      <th></th>\n",
              "      <th></th>\n",
              "      <th></th>\n",
              "      <th></th>\n",
              "      <th></th>\n",
              "      <th></th>\n",
              "      <th></th>\n",
              "      <th></th>\n",
              "      <th></th>\n",
              "      <th></th>\n",
              "      <th></th>\n",
              "      <th></th>\n",
              "      <th></th>\n",
              "      <th></th>\n",
              "      <th></th>\n",
              "      <th></th>\n",
              "      <th></th>\n",
              "      <th></th>\n",
              "      <th></th>\n",
              "    </tr>\n",
              "  </thead>\n",
              "  <tbody>\n",
              "    <tr>\n",
              "      <th>0</th>\n",
              "      <td>30094</td>\n",
              "      <td>30094</td>\n",
              "      <td>30094</td>\n",
              "      <td>30094</td>\n",
              "      <td>30094</td>\n",
              "      <td>30094</td>\n",
              "      <td>30094</td>\n",
              "      <td>30094</td>\n",
              "      <td>30094</td>\n",
              "      <td>30094</td>\n",
              "      <td>30094</td>\n",
              "      <td>30094</td>\n",
              "      <td>30094</td>\n",
              "      <td>30094</td>\n",
              "      <td>30094</td>\n",
              "      <td>30094</td>\n",
              "      <td>30094</td>\n",
              "      <td>30094</td>\n",
              "      <td>30094</td>\n",
              "      <td>30094</td>\n",
              "      <td>30094</td>\n",
              "      <td>30094</td>\n",
              "      <td>30094</td>\n",
              "      <td>30094</td>\n",
              "      <td>30094</td>\n",
              "      <td>30094</td>\n",
              "      <td>30094</td>\n",
              "      <td>30094</td>\n",
              "      <td>30094</td>\n",
              "      <td>30094</td>\n",
              "      <td>30094</td>\n",
              "      <td>30094</td>\n",
              "      <td>29670</td>\n",
              "      <td>30094</td>\n",
              "    </tr>\n",
              "    <tr>\n",
              "      <th>1</th>\n",
              "      <td>1644</td>\n",
              "      <td>1644</td>\n",
              "      <td>1644</td>\n",
              "      <td>1644</td>\n",
              "      <td>1644</td>\n",
              "      <td>1644</td>\n",
              "      <td>1644</td>\n",
              "      <td>1644</td>\n",
              "      <td>1644</td>\n",
              "      <td>1644</td>\n",
              "      <td>1644</td>\n",
              "      <td>1644</td>\n",
              "      <td>1644</td>\n",
              "      <td>1644</td>\n",
              "      <td>1644</td>\n",
              "      <td>1644</td>\n",
              "      <td>1644</td>\n",
              "      <td>1644</td>\n",
              "      <td>1644</td>\n",
              "      <td>1644</td>\n",
              "      <td>1644</td>\n",
              "      <td>1644</td>\n",
              "      <td>1644</td>\n",
              "      <td>1644</td>\n",
              "      <td>1644</td>\n",
              "      <td>1644</td>\n",
              "      <td>1644</td>\n",
              "      <td>1644</td>\n",
              "      <td>1644</td>\n",
              "      <td>1644</td>\n",
              "      <td>1644</td>\n",
              "      <td>1644</td>\n",
              "      <td>1631</td>\n",
              "      <td>1644</td>\n",
              "    </tr>\n",
              "  </tbody>\n",
              "</table>\n",
              "</div>"
            ],
            "text/plain": [
              "                   is_canceled  lead_time  arrival_date_year  \\\n",
              "is_repeated_guest                                              \n",
              "0                        30094      30094              30094   \n",
              "1                         1644       1644               1644   \n",
              "\n",
              "                   arrival_date_month  arrival_date_week_number  \\\n",
              "is_repeated_guest                                                 \n",
              "0                               30094                     30094   \n",
              "1                                1644                      1644   \n",
              "\n",
              "                   arrival_date_day_of_month  stays_in_weekend_nights  \\\n",
              "is_repeated_guest                                                       \n",
              "0                                      30094                    30094   \n",
              "1                                       1644                     1644   \n",
              "\n",
              "                   stays_in_week_nights  adults  children  babies   meal  \\\n",
              "is_repeated_guest                                                          \n",
              "0                                 30094   30094     30094   30094  30094   \n",
              "1                                  1644    1644      1644    1644   1644   \n",
              "\n",
              "                   country  market_segment  distribution_channel  \\\n",
              "is_repeated_guest                                                  \n",
              "0                    30094           30094                 30094   \n",
              "1                     1644            1644                  1644   \n",
              "\n",
              "                   previous_cancellations  previous_bookings_not_canceled  \\\n",
              "is_repeated_guest                                                           \n",
              "0                                   30094                           30094   \n",
              "1                                    1644                            1644   \n",
              "\n",
              "                   reserved_room_type  assigned_room_type  booking_changes  \\\n",
              "is_repeated_guest                                                            \n",
              "0                               30094               30094            30094   \n",
              "1                                1644                1644             1644   \n",
              "\n",
              "                   deposit_type  agent  company  days_in_waiting_list  \\\n",
              "is_repeated_guest                                                       \n",
              "0                         30094  30094    30094                 30094   \n",
              "1                          1644   1644     1644                  1644   \n",
              "\n",
              "                   customer_type    adr  required_car_parking_spaces  \\\n",
              "is_repeated_guest                                                      \n",
              "0                          30094  30094                        30094   \n",
              "1                           1644   1644                         1644   \n",
              "\n",
              "                   total_of_special_requests  reservation_status  have_bb  \\\n",
              "is_repeated_guest                                                           \n",
              "0                                      30094               30094    30094   \n",
              "1                                       1644                1644     1644   \n",
              "\n",
              "                   country_name  alpha2  region  adr_pp  \n",
              "is_repeated_guest                                        \n",
              "0                         30094   30094   29670   30094  \n",
              "1                          1644    1644    1631    1644  "
            ]
          },
          "metadata": {
            "tags": []
          },
          "execution_count": 13
        }
      ]
    },
    {
      "cell_type": "code",
      "metadata": {
        "id": "f2jmVLEZzIO0",
        "outputId": "e5ce5ed2-ae4a-4d3e-f9c0-3206b9c98dad",
        "colab": {
          "base_uri": "https://localhost:8080/",
          "height": 502
        }
      },
      "source": [
        "plt.figure(figsize=(12, 8))\n",
        "g = sns.countplot(x = \"arrival_date_week_number\", data=df,hue='is_repeated_guest', )\n",
        "\n",
        "\n",
        "plt.show()"
      ],
      "execution_count": null,
      "outputs": [
        {
          "output_type": "display_data",
          "data": {
            "image/png": "[encoded data removed]",
            "text/plain": [
              "<Figure size 864x576 with 1 Axes>"
            ]
          },
          "metadata": {
            "tags": [],
            "needs_background": "light"
          }
        }
      ]
    },
    {
      "cell_type": "code",
      "metadata": {
        "id": "VvF6v2vMcwJU",
        "outputId": "b65d6ea3-7031-479b-c2f2-b261c8ae2141",
        "colab": {
          "base_uri": "https://localhost:8080/",
          "height": 563
        }
      },
      "source": [
        "room_prices_mothly = df_noc[[ \"arrival_date_month\", \"adr_pp\"]].sort_values(\"arrival_date_month\")\n",
        "\n",
        "# order by month:\n",
        "ordered_months = [\"January\", \"February\", \"March\", \"April\", \"May\", \"June\", \n",
        "          \"July\", \"August\", \"September\", \"October\", \"November\", \"December\"]\n",
        "room_prices_mothly[\"arrival_date_month\"] = pd.Categorical(room_prices_mothly[\"arrival_date_month\"], categories=ordered_months, ordered=True)\n",
        "\n",
        "# barplot with standard deviation:\n",
        "plt.figure(figsize=(12, 8))\n",
        "sns.lineplot(x = \"arrival_date_month\", y=\"adr_pp\", data=room_prices_mothly, \n",
        "             ci=\"sd\", sizes=(2.5))\n",
        "plt.title(\"Room price per night and person over the year\", fontsize=16)\n",
        "plt.xlabel(\"Month\", fontsize=16)\n",
        "plt.xticks(rotation=45)\n",
        "plt.ylabel(\"Price [USD]\", fontsize=16)\n",
        "plt.ylim(0,270)\n",
        "plt.show()"
      ],
      "execution_count": null,
      "outputs": [
        {
          "output_type": "display_data",
          "data": {
            "image/png": "[encoded data removed]",
            "text/plain": [
              "<Figure size 864x576 with 1 Axes>"
            ]
          },
          "metadata": {
            "tags": [],
            "needs_background": "light"
          }
        }
      ]
    },
    {
      "cell_type": "code",
      "metadata": {
        "id": "hUgb_0rINF1X"
      },
      "source": [
        "df_noc[[ \"arrival_date_month\", \"adr_pp\"]].sort_values(\"arrival_date_month\").to_csv('adr_pp.csv')\n",
        "df_noc[[ \"arrival_date_month\", \"adr\"]].sort_values(\"arrival_date_month\").to_csv('adr.csv')"
      ],
      "execution_count": null,
      "outputs": []
    },
    {
      "cell_type": "code",
      "metadata": {
        "id": "Dause81cd7_q",
        "outputId": "2fef2425-cbf3-41ba-a126-3b43088e04a1",
        "colab": {
          "base_uri": "https://localhost:8080/",
          "height": 563
        }
      },
      "source": [
        "room_prices_mothly = df_noc[[ \"arrival_date_month\", \"adr\"]].sort_values(\"arrival_date_month\")\n",
        "\n",
        "# order by month:\n",
        "ordered_months = [\"January\", \"February\", \"March\", \"April\", \"May\", \"June\", \n",
        "          \"July\", \"August\", \"September\", \"October\", \"November\", \"December\"]\n",
        "room_prices_mothly[\"arrival_date_month\"] = pd.Categorical(room_prices_mothly[\"arrival_date_month\"], categories=ordered_months, ordered=True)\n",
        "\n",
        "# barplot with standard deviation:\n",
        "plt.figure(figsize=(12, 8))\n",
        "sns.lineplot(x = \"arrival_date_month\", y=\"adr\", data=room_prices_mothly, \n",
        "             ci=\"sd\", sizes=(2.5))\n",
        "plt.title(\"Revenue per night and person over the year\", fontsize=16)\n",
        "plt.xlabel(\"Month\", fontsize=16)\n",
        "plt.xticks(rotation=45)\n",
        "plt.ylabel(\"Average Daily Rate [USD]\", fontsize=16)\n",
        "plt.ylim(0,270)\n",
        "\n",
        "plt.show()"
      ],
      "execution_count": null,
      "outputs": [
        {
          "output_type": "display_data",
          "data": {
            "image/png": "[encoded data removed]",
            "text/plain": [
              "<Figure size 864x576 with 1 Axes>"
            ]
          },
          "metadata": {
            "tags": [],
            "needs_background": "light"
          }
        }
      ]
    },
    {
      "cell_type": "code",
      "metadata": {
        "id": "S2T4-2rLN6kG"
      },
      "source": [
        "room_prices_oc = df_noc.loc[df_noc['arrival_date_month']=='October'][[ \"reserved_room_type\", \"adr_pp\"]].sort_values(\"reserved_room_type\")\n",
        "room_prices_au = df_noc.loc[df_noc['arrival_date_month']=='August'][[ \"reserved_room_type\", \"adr_pp\"]].sort_values(\"reserved_room_type\")\n"
      ],
      "execution_count": null,
      "outputs": []
    },
    {
      "cell_type": "code",
      "metadata": {
        "id": "wjiVNwQRNtqf",
        "outputId": "a242106e-13c0-4689-9756-b9e918b6f352",
        "colab": {
          "base_uri": "https://localhost:8080/",
          "height": 539
        }
      },
      "source": [
        "plt.figure(figsize=(12, 8))\n",
        "sns.boxplot(x=\"reserved_room_type\",\n",
        "            y=\"adr_pp\",\n",
        "            data=room_prices_oc, \n",
        "            fliersize=0)\n",
        "plt.title(\"Price of room types per night and person (October)\", fontsize=16)\n",
        "plt.xlabel(\"Room type\", fontsize=16)\n",
        "plt.ylabel(\"Price [USD]\", fontsize=16)\n",
        "plt.legend(loc=\"upper right\")\n",
        "plt.ylim(0, 200)\n",
        "plt.show()"
      ],
      "execution_count": null,
      "outputs": [
        {
          "output_type": "stream",
          "text": [
            "No handles with labels found to put in legend.\n"
          ],
          "name": "stderr"
        },
        {
          "output_type": "display_data",
          "data": {
            "image/png": "[encoded data removed]",
            "text/plain": [
              "<Figure size 864x576 with 1 Axes>"
            ]
          },
          "metadata": {
            "tags": [],
            "needs_background": "light"
          }
        }
      ]
    },
    {
      "cell_type": "code",
      "metadata": {
        "id": "awMVn00cODmM",
        "outputId": "1f236734-0c04-4611-d046-e7c2955a6a84",
        "colab": {
          "base_uri": "https://localhost:8080/",
          "height": 539
        }
      },
      "source": [
        "plt.figure(figsize=(12, 8))\n",
        "sns.boxplot(x=\"reserved_room_type\",\n",
        "            y=\"adr_pp\",\n",
        "            data=room_prices, \n",
        "            fliersize=0)\n",
        "plt.title(\"Price of room types per night and person (August)\", fontsize=16)\n",
        "plt.xlabel(\"Room type\", fontsize=16)\n",
        "plt.ylabel(\"Price [USD]\", fontsize=16)\n",
        "plt.legend(loc=\"upper right\")\n",
        "plt.ylim(0, 200)\n",
        "plt.show()"
      ],
      "execution_count": null,
      "outputs": [
        {
          "output_type": "stream",
          "text": [
            "No handles with labels found to put in legend.\n"
          ],
          "name": "stderr"
        },
        {
          "output_type": "display_data",
          "data": {
            "image/png": "[encoded data removed]",
            "text/plain": [
              "<Figure size 864x576 with 1 Axes>"
            ]
          },
          "metadata": {
            "tags": [],
            "needs_background": "light"
          }
        }
      ]
    },
    {
      "cell_type": "code",
      "metadata": {
        "id": "71Xb0iSNOWUb",
        "outputId": "14c4a02e-cd58-4561-ac75-881b15ec4f78",
        "colab": {
          "base_uri": "https://localhost:8080/",
          "height": 441
        }
      },
      "source": [
        "(sns.FacetGrid(df, hue = 'is_canceled',\n",
        "             height = 6,\n",
        "             xlim = (0,500))\n",
        "    .map(sns.kdeplot, 'lead_time', shade = True)\n",
        "    .add_legend());"
      ],
      "execution_count": null,
      "outputs": [
        {
          "output_type": "display_data",
          "data": {
            "image/png": "[encoded data removed]",
            "text/plain": [
              "<Figure size 510.425x432 with 1 Axes>"
            ]
          },
          "metadata": {
            "tags": [],
            "needs_background": "light"
          }
        }
      ]
    },
    {
      "cell_type": "markdown",
      "metadata": {
        "id": "mLYeV0YO9i4k"
      },
      "source": [
        "# ML"
      ]
    },
    {
      "cell_type": "code",
      "metadata": {
        "id": "Wl5Hsi4clkFI"
      },
      "source": [
        "from IPython.display import clear_output\n",
        "!pip install eli5\n",
        "clear_output()"
      ],
      "execution_count": null,
      "outputs": []
    },
    {
      "cell_type": "code",
      "metadata": {
        "id": "IbFxWCuE0ncS",
        "outputId": "7dd05a4c-837b-4142-c691-65fbf076d7ab",
        "colab": {
          "base_uri": "https://localhost:8080/",
          "height": 190
        }
      },
      "source": [
        "from sklearn.model_selection import train_test_split, KFold, cross_validate, cross_val_score, GridSearchCV\n",
        "from sklearn.pipeline import Pipeline\n",
        "from sklearn.compose import ColumnTransformer\n",
        "from sklearn.preprocessing import LabelEncoder, OneHotEncoder\n",
        "from sklearn.impute import SimpleImputer\n",
        "from sklearn.ensemble import RandomForestClassifier\n",
        "from xgboost import XGBClassifier\n",
        "from sklearn.linear_model import LogisticRegression\n",
        "from sklearn.tree import DecisionTreeClassifier\n",
        "from sklearn.metrics import accuracy_score\n",
        "import eli5\n",
        "import numpy as np"
      ],
      "execution_count": null,
      "outputs": [
        {
          "output_type": "stream",
          "text": [
            "/usr/local/lib/python3.6/dist-packages/sklearn/utils/deprecation.py:144: FutureWarning:\n",
            "\n",
            "The sklearn.metrics.scorer module is  deprecated in version 0.22 and will be removed in version 0.24. The corresponding classes / functions should instead be imported from sklearn.metrics. Anything that cannot be imported from sklearn.metrics is now part of the private API.\n",
            "\n",
            "/usr/local/lib/python3.6/dist-packages/sklearn/utils/deprecation.py:144: FutureWarning:\n",
            "\n",
            "The sklearn.feature_selection.base module is  deprecated in version 0.22 and will be removed in version 0.24. The corresponding classes / functions should instead be imported from sklearn.feature_selection. Anything that cannot be imported from sklearn.feature_selection is now part of the private API.\n",
            "\n",
            "Using TensorFlow backend.\n"
          ],
          "name": "stderr"
        }
      ]
    },
    {
      "cell_type": "markdown",
      "metadata": {
        "id": "-nAc7OM9_CNg"
      },
      "source": [
        "Feature Selection & Data Transformation"
      ]
    },
    {
      "cell_type": "code",
      "metadata": {
        "id": "gusCQg8rQ5Vf"
      },
      "source": [
        "num_features = [\"lead_time\",\"arrival_date_week_number\",\"arrival_date_day_of_month\",\n",
        "                \"stays_in_weekend_nights\",\"stays_in_week_nights\",\"adults\",\"children\",\n",
        "                \"babies\",\"is_repeated_guest\",\n",
        "                \"required_car_parking_spaces\", \"total_of_special_requests\", \"adr\"]\n",
        "\n",
        "cat_features = [\"arrival_date_month\",\"meal\",\"market_segment\",\n",
        "                \"distribution_channel\",\"reserved_room_type\",\"deposit_type\",\"customer_type\",\"agent\",\"company\"]\n",
        "\n",
        "features = num_features + cat_features\n",
        "X = df.drop([\"is_canceled\"], axis=1)[features]\n",
        "y = df[\"is_canceled\"]\n",
        "\n",
        "kfolds = 4\n",
        "num_transformer = SimpleImputer(strategy=\"constant\")\n",
        "\n",
        "\n",
        "cat_transformer = Pipeline(steps=[\n",
        "    (\"imputer\", SimpleImputer(strategy=\"constant\", fill_value=\"Unknown\")),\n",
        "    (\"onehot\", OneHotEncoder(handle_unknown='ignore'))])\n",
        "\n",
        "preprocessor = ColumnTransformer(transformers=[(\"num\", num_transformer, num_features),\n",
        "                                               (\"cat\", cat_transformer, cat_features)])"
      ],
      "execution_count": null,
      "outputs": []
    },
    {
      "cell_type": "markdown",
      "metadata": {
        "id": "paplz8u8AiZG"
      },
      "source": [
        "Fit"
      ]
    },
    {
      "cell_type": "code",
      "metadata": {
        "id": "9GUMXIJt03tM",
        "outputId": "da5537b7-6616-4672-f6fd-696efc203841",
        "colab": {
          "base_uri": "https://localhost:8080/",
          "height": 85
        }
      },
      "source": [
        "base_models = [(\"DT_model\", DecisionTreeClassifier(random_state=53)),\n",
        "               (\"RF_model\", RandomForestClassifier(random_state=53,n_jobs=-1)),\n",
        "               (\"LR_model\", LogisticRegression(random_state=53,n_jobs=-1)),\n",
        "               (\"XGB_model\", XGBClassifier(random_state=53, n_jobs=-1))]\n",
        "\n",
        "\n",
        "split = KFold(n_splits=kfolds, shuffle=True, random_state=53)\n",
        "\n",
        "for name, model in base_models:\n",
        "    model_steps = Pipeline(steps=[('preprocessor', preprocessor),\n",
        "                              ('model', model)])\n",
        "    \n",
        "    cv_results = cross_val_score(model_steps, \n",
        "                                 X, y, \n",
        "                                 cv=split,\n",
        "                                 scoring=\"accuracy\",\n",
        "                                 n_jobs=-1)\n",
        "    min_score = round(min(cv_results), 4)\n",
        "    max_score = round(max(cv_results), 4)\n",
        "    mean_score = round(np.mean(cv_results), 4)\n",
        "    std_dev = round(np.std(cv_results), 4)\n",
        "    print(f\"{name} cross validation accuarcy score: {mean_score} +/- {std_dev} (std) min: {min_score}, max: {max_score}\")"
      ],
      "execution_count": null,
      "outputs": [
        {
          "output_type": "stream",
          "text": [
            "DT_model cross validation accuarcy score: 0.8211 +/- 0.0023 (std) min: 0.8175, max: 0.8232\n",
            "RF_model cross validation accuarcy score: 0.8571 +/- 0.003 (std) min: 0.8528, max: 0.8601\n",
            "LR_model cross validation accuarcy score: 0.808 +/- 0.0037 (std) min: 0.8032, max: 0.8133\n",
            "XGB_model cross validation accuarcy score: 0.8254 +/- 0.0045 (std) min: 0.821, max: 0.8327\n"
          ],
          "name": "stdout"
        }
      ]
    },
    {
      "cell_type": "code",
      "metadata": {
        "id": "GFWFNBO11AW3",
        "outputId": "ce59b385-b061-47b8-df49-ef79fb389b42",
        "colab": {
          "base_uri": "https://localhost:8080/",
          "height": 102
        }
      },
      "source": [
        "rf_model_enh = RandomForestClassifier(n_estimators=160,\n",
        "                               max_features=0.5,\n",
        "                               min_samples_split=2,\n",
        "                               n_jobs=-1,\n",
        "                               random_state=0)\n",
        "\n",
        "split = KFold(n_splits=kfolds, shuffle=True, random_state=52)\n",
        "model_pipe = Pipeline(steps=[('preprocessor', preprocessor),\n",
        "                              ('model', rf_model_enh)])\n",
        "cv_results = cross_val_score(model_pipe, \n",
        "                                 X, y, \n",
        "                                 cv=split,\n",
        "                                 scoring=\"accuracy\",\n",
        "                                 n_jobs=-1)\n",
        "min_score = round(min(cv_results), 4)\n",
        "max_score = round(max(cv_results), 4)\n",
        "mean_score = round(np.mean(cv_results), 4)\n",
        "std_dev = round(np.std(cv_results), 4)\n",
        "print(f\"Enhanced RF model cross validation accuarcy score: {mean_score} +/- {std_dev} (std) min: {min_score}, max: {max_score}\")"
      ],
      "execution_count": null,
      "outputs": [
        {
          "output_type": "stream",
          "text": [
            "/usr/local/lib/python3.6/dist-packages/joblib/externals/loky/process_executor.py:691: UserWarning:\n",
            "\n",
            "A worker stopped while some jobs were given to the executor. This can be caused by a too short worker timeout or by a memory leak.\n",
            "\n"
          ],
          "name": "stderr"
        },
        {
          "output_type": "stream",
          "text": [
            "Enhanced RF model cross validation accuarcy score: 0.8626 +/- 0.0033 (std) min: 0.8592, max: 0.8665\n"
          ],
          "name": "stdout"
        }
      ]
    },
    {
      "cell_type": "code",
      "metadata": {
        "id": "RwVa-vpPXcV4",
        "outputId": "147193f0-7a61-4e5d-a66e-1c2be64a5114",
        "colab": {
          "base_uri": "https://localhost:8080/",
          "height": 34
        }
      },
      "source": [
        "cat_features_non_dep = [\"arrival_date_month\",\"meal\",\"market_segment\",\n",
        "                \"distribution_channel\",\"reserved_room_type\",\"customer_type\"]\n",
        "\n",
        "features_non_dep = num_features + cat_features_non_dep\n",
        "X_non_dep = df.drop([\"is_canceled\"], axis=1)[features_non_dep]\n",
        "\n",
        "\n",
        "preprocessor_non_dep = ColumnTransformer(transformers=[(\"num\", num_transformer, num_features),\n",
        "                                               (\"cat\", cat_transformer, cat_features_non_dep)])\n",
        "\n",
        "X_non_dep = df.drop([\"is_canceled\"], axis=1)[features_non_dep]\n",
        "\n",
        "rf_model_non_dep = RandomForestClassifier(random_state=42) \n",
        "\n",
        "kfolds=4\n",
        "split = KFold(n_splits=kfolds, shuffle=True, random_state=42)\n",
        "model_pipe = Pipeline(steps=[('preprocessor', preprocessor_non_dep),\n",
        "                              ('model', rf_model_non_dep)])\n",
        "cv_results = cross_val_score(model_pipe, \n",
        "                                 X_non_dep, y, \n",
        "                                 cv=split,\n",
        "                                 scoring=\"accuracy\",\n",
        "                                 n_jobs=-1)\n",
        "# output:\n",
        "min_score = round(min(cv_results), 4)\n",
        "max_score = round(max(cv_results), 4)\n",
        "mean_score = round(np.mean(cv_results), 4)\n",
        "std_dev = round(np.std(cv_results), 4)\n",
        "print(f\"RF model without deposit_type feature cross validation accuarcy score: {mean_score} +/- {std_dev} (std) min: {min_score}, max: {max_score}\")"
      ],
      "execution_count": null,
      "outputs": [
        {
          "output_type": "stream",
          "text": [
            "RF model without deposit_type feature cross validation accuarcy score: 0.8506 +/- 0.0032 (std) min: 0.847, max: 0.8552\n"
          ],
          "name": "stdout"
        }
      ]
    },
    {
      "cell_type": "code",
      "metadata": {
        "id": "H3obo-lBXTIl"
      },
      "source": [
        "model_pipe.fit(X_non_dep,y)\n",
        "\n",
        "onehot_columns = list(model_pipe.named_steps['preprocessor'].\n",
        "                      named_transformers_['cat'].\n",
        "                      named_steps['onehot'].\n",
        "                      get_feature_names(input_features=cat_features_non_dep))\n",
        "\n",
        "feat_imp_list = num_features + onehot_columns\n",
        "\n",
        "feat_imp_df_non_dep = eli5.formatters.as_dataframe.explain_weights_df(\n",
        "    model_pipe.named_steps['model'],\n",
        "    feature_names=feat_imp_list)"
      ],
      "execution_count": null,
      "outputs": []
    },
    {
      "cell_type": "code",
      "metadata": {
        "id": "1hKTPoqhXoIJ",
        "outputId": "5efad420-b296-49f0-a544-10d4b04dc0f4",
        "colab": {
          "base_uri": "https://localhost:8080/",
          "height": 542
        }
      },
      "source": [
        "fig = px.bar(feat_imp_df_non_dep.head(3)),y='feature',x='weight',orientation='h',color='feature')\n",
        "fig.update_layout(showlegend=False)"
      ],
      "execution_count": null,
      "outputs": [
        {
          "output_type": "display_data",
          "data": {
            "text/html": [
              "<html>\n",
              "<head><meta charset=\"utf-8\" /></head>\n",
              "<body>\n",
              "    <div>\n",
              "            <script src=\"https://cdnjs.cloudflare.com/ajax/libs/mathjax/2.7.5/MathJax.js?config=TeX-AMS-MML_SVG\"></script><script type=\"text/javascript\">if (window.MathJax) {MathJax.Hub.Config({SVG: {font: \"STIX-Web\"}});}</script>\n",
              "                <script type=\"text/javascript\">window.PlotlyConfig = {MathJaxConfig: 'local'};</script>\n",
              "        <script src=\"https://cdn.plot.ly/plotly-latest.min.js\"></script>    \n",
              "            <div id=\"24cf9454-c45d-4ec9-bf1c-0df583cb2e87\" class=\"plotly-graph-div\" style=\"height:525px; width:100%;\"></div>\n",
              "            <script type=\"text/javascript\">\n",
              "                \n",
              "                    window.PLOTLYENV=window.PLOTLYENV || {};\n",
              "                    \n",
              "                if (document.getElementById(\"24cf9454-c45d-4ec9-bf1c-0df583cb2e87\")) {\n",
              "                    Plotly.newPlot(\n",
              "                        '24cf9454-c45d-4ec9-bf1c-0df583cb2e87',\n",
              "                        [{\"alignmentgroup\": \"True\", \"hoverlabel\": {\"namelength\": 0}, \"hovertemplate\": \"feature=%{y}<br>weight=%{x}\", \"legendgroup\": \"feature=lead_time\", \"marker\": {\"color\": \"#636efa\"}, \"name\": \"feature=lead_time\", \"offsetgroup\": \"feature=lead_time\", \"orientation\": \"h\", \"showlegend\": true, \"textposition\": \"auto\", \"type\": \"bar\", \"x\": [0.1837884070032625], \"xaxis\": \"x\", \"y\": [\"lead_time\"], \"yaxis\": \"y\"}, {\"alignmentgroup\": \"True\", \"hoverlabel\": {\"namelength\": 0}, \"hovertemplate\": \"feature=%{y}<br>weight=%{x}\", \"legendgroup\": \"feature=adr\", \"marker\": {\"color\": \"#EF553B\"}, \"name\": \"feature=adr\", \"offsetgroup\": \"feature=adr\", \"orientation\": \"h\", \"showlegend\": true, \"textposition\": \"auto\", \"type\": \"bar\", \"x\": [0.12460899301339864], \"xaxis\": \"x\", \"y\": [\"adr\"], \"yaxis\": \"y\"}, {\"alignmentgroup\": \"True\", \"hoverlabel\": {\"namelength\": 0}, \"hovertemplate\": \"feature=%{y}<br>weight=%{x}\", \"legendgroup\": \"feature=arrival_date_week_number_high_season\", \"marker\": {\"color\": \"#00cc96\"}, \"name\": \"feature=arrival_date_week_number_high_season\", \"offsetgroup\": \"feature=arrival_date_week_number_high_season\", \"orientation\": \"h\", \"showlegend\": true, \"textposition\": \"auto\", \"type\": \"bar\", \"x\": [0.06959981585238216], \"xaxis\": \"x\", \"y\": [\"arrival_date_week_number_high_season\"], \"yaxis\": \"y\"}],\n",
              "                        {\"barmode\": \"relative\", \"legend\": {\"tracegroupgap\": 0}, \"margin\": {\"t\": 60}, \"showlegend\": false, \"template\": {\"data\": {\"bar\": [{\"error_x\": {\"color\": \"#2a3f5f\"}, \"error_y\": {\"color\": \"#2a3f5f\"}, \"marker\": {\"line\": {\"color\": \"#E5ECF6\", \"width\": 0.5}}, \"type\": \"bar\"}], \"barpolar\": [{\"marker\": {\"line\": {\"color\": \"#E5ECF6\", \"width\": 0.5}}, \"type\": \"barpolar\"}], \"carpet\": [{\"aaxis\": {\"endlinecolor\": \"#2a3f5f\", \"gridcolor\": \"white\", \"linecolor\": \"white\", \"minorgridcolor\": \"white\", \"startlinecolor\": \"#2a3f5f\"}, \"baxis\": {\"endlinecolor\": \"#2a3f5f\", \"gridcolor\": \"white\", \"linecolor\": \"white\", \"minorgridcolor\": \"white\", \"startlinecolor\": \"#2a3f5f\"}, \"type\": \"carpet\"}], \"choropleth\": [{\"colorbar\": {\"outlinewidth\": 0, \"ticks\": \"\"}, \"type\": \"choropleth\"}], \"contour\": [{\"colorbar\": {\"outlinewidth\": 0, \"ticks\": \"\"}, \"colorscale\": [[0.0, \"#0d0887\"], [0.1111111111111111, \"#46039f\"], [0.2222222222222222, \"#7201a8\"], [0.3333333333333333, \"#9c179e\"], [0.4444444444444444, \"#bd3786\"], [0.5555555555555556, \"#d8576b\"], [0.6666666666666666, \"#ed7953\"], [0.7777777777777778, \"#fb9f3a\"], [0.8888888888888888, \"#fdca26\"], [1.0, \"#f0f921\"]], \"type\": \"contour\"}], \"contourcarpet\": [{\"colorbar\": {\"outlinewidth\": 0, \"ticks\": \"\"}, \"type\": \"contourcarpet\"}], \"heatmap\": [{\"colorbar\": {\"outlinewidth\": 0, \"ticks\": \"\"}, \"colorscale\": [[0.0, \"#0d0887\"], [0.1111111111111111, \"#46039f\"], [0.2222222222222222, \"#7201a8\"], [0.3333333333333333, \"#9c179e\"], [0.4444444444444444, \"#bd3786\"], [0.5555555555555556, \"#d8576b\"], [0.6666666666666666, \"#ed7953\"], [0.7777777777777778, \"#fb9f3a\"], [0.8888888888888888, \"#fdca26\"], [1.0, \"#f0f921\"]], \"type\": \"heatmap\"}], \"heatmapgl\": [{\"colorbar\": {\"outlinewidth\": 0, \"ticks\": \"\"}, \"colorscale\": [[0.0, \"#0d0887\"], [0.1111111111111111, \"#46039f\"], [0.2222222222222222, \"#7201a8\"], [0.3333333333333333, \"#9c179e\"], [0.4444444444444444, \"#bd3786\"], [0.5555555555555556, \"#d8576b\"], [0.6666666666666666, \"#ed7953\"], [0.7777777777777778, \"#fb9f3a\"], [0.8888888888888888, \"#fdca26\"], [1.0, \"#f0f921\"]], \"type\": \"heatmapgl\"}], \"histogram\": [{\"marker\": {\"colorbar\": {\"outlinewidth\": 0, \"ticks\": \"\"}}, \"type\": \"histogram\"}], \"histogram2d\": [{\"colorbar\": {\"outlinewidth\": 0, \"ticks\": \"\"}, \"colorscale\": [[0.0, \"#0d0887\"], [0.1111111111111111, \"#46039f\"], [0.2222222222222222, \"#7201a8\"], [0.3333333333333333, \"#9c179e\"], [0.4444444444444444, \"#bd3786\"], [0.5555555555555556, \"#d8576b\"], [0.6666666666666666, \"#ed7953\"], [0.7777777777777778, \"#fb9f3a\"], [0.8888888888888888, \"#fdca26\"], [1.0, \"#f0f921\"]], \"type\": \"histogram2d\"}], \"histogram2dcontour\": [{\"colorbar\": {\"outlinewidth\": 0, \"ticks\": \"\"}, \"colorscale\": [[0.0, \"#0d0887\"], [0.1111111111111111, \"#46039f\"], [0.2222222222222222, \"#7201a8\"], [0.3333333333333333, \"#9c179e\"], [0.4444444444444444, \"#bd3786\"], [0.5555555555555556, \"#d8576b\"], [0.6666666666666666, \"#ed7953\"], [0.7777777777777778, \"#fb9f3a\"], [0.8888888888888888, \"#fdca26\"], [1.0, \"#f0f921\"]], \"type\": \"histogram2dcontour\"}], \"mesh3d\": [{\"colorbar\": {\"outlinewidth\": 0, \"ticks\": \"\"}, \"type\": \"mesh3d\"}], \"parcoords\": [{\"line\": {\"colorbar\": {\"outlinewidth\": 0, \"ticks\": \"\"}}, \"type\": \"parcoords\"}], \"pie\": [{\"automargin\": true, \"type\": \"pie\"}], \"scatter\": [{\"marker\": {\"colorbar\": {\"outlinewidth\": 0, \"ticks\": \"\"}}, \"type\": \"scatter\"}], \"scatter3d\": [{\"line\": {\"colorbar\": {\"outlinewidth\": 0, \"ticks\": \"\"}}, \"marker\": {\"colorbar\": {\"outlinewidth\": 0, \"ticks\": \"\"}}, \"type\": \"scatter3d\"}], \"scattercarpet\": [{\"marker\": {\"colorbar\": {\"outlinewidth\": 0, \"ticks\": \"\"}}, \"type\": \"scattercarpet\"}], \"scattergeo\": [{\"marker\": {\"colorbar\": {\"outlinewidth\": 0, \"ticks\": \"\"}}, \"type\": \"scattergeo\"}], \"scattergl\": [{\"marker\": {\"colorbar\": {\"outlinewidth\": 0, \"ticks\": \"\"}}, \"type\": \"scattergl\"}], \"scattermapbox\": [{\"marker\": {\"colorbar\": {\"outlinewidth\": 0, \"ticks\": \"\"}}, \"type\": \"scattermapbox\"}], \"scatterpolar\": [{\"marker\": {\"colorbar\": {\"outlinewidth\": 0, \"ticks\": \"\"}}, \"type\": \"scatterpolar\"}], \"scatterpolargl\": [{\"marker\": {\"colorbar\": {\"outlinewidth\": 0, \"ticks\": \"\"}}, \"type\": \"scatterpolargl\"}], \"scatterternary\": [{\"marker\": {\"colorbar\": {\"outlinewidth\": 0, \"ticks\": \"\"}}, \"type\": \"scatterternary\"}], \"surface\": [{\"colorbar\": {\"outlinewidth\": 0, \"ticks\": \"\"}, \"colorscale\": [[0.0, \"#0d0887\"], [0.1111111111111111, \"#46039f\"], [0.2222222222222222, \"#7201a8\"], [0.3333333333333333, \"#9c179e\"], [0.4444444444444444, \"#bd3786\"], [0.5555555555555556, \"#d8576b\"], [0.6666666666666666, \"#ed7953\"], [0.7777777777777778, \"#fb9f3a\"], [0.8888888888888888, \"#fdca26\"], [1.0, \"#f0f921\"]], \"type\": \"surface\"}], \"table\": [{\"cells\": {\"fill\": {\"color\": \"#EBF0F8\"}, \"line\": {\"color\": \"white\"}}, \"header\": {\"fill\": {\"color\": \"#C8D4E3\"}, \"line\": {\"color\": \"white\"}}, \"type\": \"table\"}]}, \"layout\": {\"annotationdefaults\": {\"arrowcolor\": \"#2a3f5f\", \"arrowhead\": 0, \"arrowwidth\": 1}, \"coloraxis\": {\"colorbar\": {\"outlinewidth\": 0, \"ticks\": \"\"}}, \"colorscale\": {\"diverging\": [[0, \"#8e0152\"], [0.1, \"#c51b7d\"], [0.2, \"#de77ae\"], [0.3, \"#f1b6da\"], [0.4, \"#fde0ef\"], [0.5, \"#f7f7f7\"], [0.6, \"#e6f5d0\"], [0.7, \"#b8e186\"], [0.8, \"#7fbc41\"], [0.9, \"#4d9221\"], [1, \"#276419\"]], \"sequential\": [[0.0, \"#0d0887\"], [0.1111111111111111, \"#46039f\"], [0.2222222222222222, \"#7201a8\"], [0.3333333333333333, \"#9c179e\"], [0.4444444444444444, \"#bd3786\"], [0.5555555555555556, \"#d8576b\"], [0.6666666666666666, \"#ed7953\"], [0.7777777777777778, \"#fb9f3a\"], [0.8888888888888888, \"#fdca26\"], [1.0, \"#f0f921\"]], \"sequentialminus\": [[0.0, \"#0d0887\"], [0.1111111111111111, \"#46039f\"], [0.2222222222222222, \"#7201a8\"], [0.3333333333333333, \"#9c179e\"], [0.4444444444444444, \"#bd3786\"], [0.5555555555555556, \"#d8576b\"], [0.6666666666666666, \"#ed7953\"], [0.7777777777777778, \"#fb9f3a\"], [0.8888888888888888, \"#fdca26\"], [1.0, \"#f0f921\"]]}, \"colorway\": [\"#636efa\", \"#EF553B\", \"#00cc96\", \"#ab63fa\", \"#FFA15A\", \"#19d3f3\", \"#FF6692\", \"#B6E880\", \"#FF97FF\", \"#FECB52\"], \"font\": {\"color\": \"#2a3f5f\"}, \"geo\": {\"bgcolor\": \"white\", \"lakecolor\": \"white\", \"landcolor\": \"#E5ECF6\", \"showlakes\": true, \"showland\": true, \"subunitcolor\": \"white\"}, \"hoverlabel\": {\"align\": \"left\"}, \"hovermode\": \"closest\", \"mapbox\": {\"style\": \"light\"}, \"paper_bgcolor\": \"white\", \"plot_bgcolor\": \"#E5ECF6\", \"polar\": {\"angularaxis\": {\"gridcolor\": \"white\", \"linecolor\": \"white\", \"ticks\": \"\"}, \"bgcolor\": \"#E5ECF6\", \"radialaxis\": {\"gridcolor\": \"white\", \"linecolor\": \"white\", \"ticks\": \"\"}}, \"scene\": {\"xaxis\": {\"backgroundcolor\": \"#E5ECF6\", \"gridcolor\": \"white\", \"gridwidth\": 2, \"linecolor\": \"white\", \"showbackground\": true, \"ticks\": \"\", \"zerolinecolor\": \"white\"}, \"yaxis\": {\"backgroundcolor\": \"#E5ECF6\", \"gridcolor\": \"white\", \"gridwidth\": 2, \"linecolor\": \"white\", \"showbackground\": true, \"ticks\": \"\", \"zerolinecolor\": \"white\"}, \"zaxis\": {\"backgroundcolor\": \"#E5ECF6\", \"gridcolor\": \"white\", \"gridwidth\": 2, \"linecolor\": \"white\", \"showbackground\": true, \"ticks\": \"\", \"zerolinecolor\": \"white\"}}, \"shapedefaults\": {\"line\": {\"color\": \"#2a3f5f\"}}, \"ternary\": {\"aaxis\": {\"gridcolor\": \"white\", \"linecolor\": \"white\", \"ticks\": \"\"}, \"baxis\": {\"gridcolor\": \"white\", \"linecolor\": \"white\", \"ticks\": \"\"}, \"bgcolor\": \"#E5ECF6\", \"caxis\": {\"gridcolor\": \"white\", \"linecolor\": \"white\", \"ticks\": \"\"}}, \"title\": {\"x\": 0.05}, \"xaxis\": {\"automargin\": true, \"gridcolor\": \"white\", \"linecolor\": \"white\", \"ticks\": \"\", \"title\": {\"standoff\": 15}, \"zerolinecolor\": \"white\", \"zerolinewidth\": 2}, \"yaxis\": {\"automargin\": true, \"gridcolor\": \"white\", \"linecolor\": \"white\", \"ticks\": \"\", \"title\": {\"standoff\": 15}, \"zerolinecolor\": \"white\", \"zerolinewidth\": 2}}}, \"xaxis\": {\"anchor\": \"y\", \"domain\": [0.0, 1.0], \"title\": {\"text\": \"weight\"}}, \"yaxis\": {\"anchor\": \"x\", \"categoryarray\": [\"arrival_date_week_number_high_season\", \"adr\", \"lead_time\"], \"categoryorder\": \"array\", \"domain\": [0.0, 1.0], \"title\": {\"text\": \"feature\"}}},\n",
              "                        {\"responsive\": true}\n",
              "                    ).then(function(){\n",
              "                            \n",
              "var gd = document.getElementById('24cf9454-c45d-4ec9-bf1c-0df583cb2e87');\n",
              "var x = new MutationObserver(function (mutations, observer) {{\n",
              "        var display = window.getComputedStyle(gd).display;\n",
              "        if (!display || display === 'none') {{\n",
              "            console.log([gd, 'removed!']);\n",
              "            Plotly.purge(gd);\n",
              "            observer.disconnect();\n",
              "        }}\n",
              "}});\n",
              "\n",
              "// Listen for the removal of the full notebook cells\n",
              "var notebookContainer = gd.closest('#notebook-container');\n",
              "if (notebookContainer) {{\n",
              "    x.observe(notebookContainer, {childList: true});\n",
              "}}\n",
              "\n",
              "// Listen for the clearing of the current output cell\n",
              "var outputEl = gd.closest('.output');\n",
              "if (outputEl) {{\n",
              "    x.observe(outputEl, {childList: true});\n",
              "}}\n",
              "\n",
              "                        })\n",
              "                };\n",
              "                \n",
              "            </script>\n",
              "        </div>\n",
              "</body>\n",
              "</html>"
            ]
          },
          "metadata": {
            "tags": []
          }
        }
      ]
    },
    {
      "cell_type": "code",
      "metadata": {
        "id": "q3uuGLihavCU",
        "outputId": "94c96c9c-b20d-4605-cc13-baa7c28d9bbd",
        "colab": {
          "base_uri": "https://localhost:8080/",
          "height": 163
        }
      },
      "source": [
        "feat_imp_df_non_dep.head().replace({'arrival_date_week_number':'arrival_date_week_number_high_season'})"
      ],
      "execution_count": null,
      "outputs": [
        {
          "output_type": "error",
          "ename": "NameError",
          "evalue": "ignored",
          "traceback": [
            "\u001b[0;31m---------------------------------------------------------------------------\u001b[0m",
            "\u001b[0;31mNameError\u001b[0m                                 Traceback (most recent call last)",
            "\u001b[0;32m<ipython-input-1-56fc9f940e45>\u001b[0m in \u001b[0;36m<module>\u001b[0;34m()\u001b[0m\n\u001b[0;32m----> 1\u001b[0;31m \u001b[0mfeat_imp_df_non_dep\u001b[0m\u001b[0;34m.\u001b[0m\u001b[0mhead\u001b[0m\u001b[0;34m(\u001b[0m\u001b[0;34m)\u001b[0m\u001b[0;34m.\u001b[0m\u001b[0mreplace\u001b[0m\u001b[0;34m(\u001b[0m\u001b[0;34m{\u001b[0m\u001b[0;34m'arrival_date_week_number'\u001b[0m\u001b[0;34m:\u001b[0m\u001b[0;34m'arrival_date_week_number_high_season'\u001b[0m\u001b[0;34m}\u001b[0m\u001b[0;34m)\u001b[0m\u001b[0;34m\u001b[0m\u001b[0;34m\u001b[0m\u001b[0m\n\u001b[0m",
            "\u001b[0;31mNameError\u001b[0m: name 'feat_imp_df_non_dep' is not defined"
          ]
        }
      ]
    },
    {
      "cell_type": "markdown",
      "metadata": {
        "id": "sGcqX0lQAtOk"
      },
      "source": [
        "Extract Feature Importance"
      ]
    },
    {
      "cell_type": "code",
      "metadata": {
        "id": "4JiTEPgE8Ss1",
        "outputId": "9ed5b93c-4cfc-44e3-fa10-341cb66b23a4",
        "colab": {
          "base_uri": "https://localhost:8080/",
          "height": 34
        }
      },
      "source": [
        "max_score"
      ],
      "execution_count": null,
      "outputs": [
        {
          "output_type": "execute_result",
          "data": {
            "text/plain": [
              "0.8665"
            ]
          },
          "metadata": {
            "tags": []
          },
          "execution_count": 38
        }
      ]
    },
    {
      "cell_type": "code",
      "metadata": {
        "id": "l0c2IR8iLxXZ",
        "outputId": "825bb15e-bfea-4517-af87-a07b8f84ac0e",
        "colab": {
          "base_uri": "https://localhost:8080/",
          "height": 629
        }
      },
      "source": [
        "df.isna().sum()"
      ],
      "execution_count": null,
      "outputs": [
        {
          "output_type": "execute_result",
          "data": {
            "text/plain": [
              "is_canceled                         0\n",
              "lead_time                           0\n",
              "arrival_date_year                   0\n",
              "arrival_date_month                  0\n",
              "arrival_date_week_number            0\n",
              "arrival_date_day_of_month           0\n",
              "stays_in_weekend_nights             0\n",
              "stays_in_week_nights                0\n",
              "adults                              0\n",
              "children                            0\n",
              "babies                              0\n",
              "meal                                0\n",
              "country                             0\n",
              "market_segment                      0\n",
              "distribution_channel                0\n",
              "is_repeated_guest                   0\n",
              "previous_cancellations              0\n",
              "previous_bookings_not_canceled      0\n",
              "reserved_room_type                  0\n",
              "assigned_room_type                  0\n",
              "booking_changes                     0\n",
              "deposit_type                        0\n",
              "agent                               0\n",
              "company                             0\n",
              "days_in_waiting_list                0\n",
              "customer_type                       0\n",
              "adr                                 0\n",
              "required_car_parking_spaces         0\n",
              "total_of_special_requests           0\n",
              "reservation_status                  0\n",
              "have_bb                             0\n",
              "country_name                        0\n",
              "alpha2                              0\n",
              "region                            437\n",
              "adr_pp                              0\n",
              "dtype: int64"
            ]
          },
          "metadata": {
            "tags": []
          },
          "execution_count": 30
        }
      ]
    },
    {
      "cell_type": "code",
      "metadata": {
        "id": "DO1YMSXmRRhl",
        "outputId": "e845dcca-934a-4eae-e87f-13fde1b65efe",
        "colab": {
          "base_uri": "https://localhost:8080/",
          "height": 34
        }
      },
      "source": [
        "df['agent'].nunique()"
      ],
      "execution_count": null,
      "outputs": [
        {
          "output_type": "execute_result",
          "data": {
            "text/plain": [
              "162"
            ]
          },
          "metadata": {
            "tags": []
          },
          "execution_count": 36
        }
      ]
    },
    {
      "cell_type": "code",
      "metadata": {
        "id": "RKwoQEzOSKAT"
      },
      "source": [
        ""
      ],
      "execution_count": null,
      "outputs": []
    }
  ]
}